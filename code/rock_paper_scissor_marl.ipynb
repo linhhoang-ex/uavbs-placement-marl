{
 "cells": [
  {
   "cell_type": "code",
   "execution_count": 22,
   "metadata": {},
   "outputs": [
    {
     "name": "stdout",
     "output_type": "stream",
     "text": [
      "Passed Parallel API test\n",
      "did not save the observations:  Observations must be Box to save observations as image\n"
     ]
    }
   ],
   "source": [
    "from pettingzoo.test import parallel_api_test, test_save_obs\n",
    "from envs.env_test import parallel_env\n",
    "\n",
    "env = parallel_env()\n",
    "parallel_api_test(env, num_cycles=100)\n",
    "test_save_obs(env)"
   ]
  },
  {
   "cell_type": "code",
   "execution_count": 20,
   "metadata": {},
   "outputs": [
    {
     "name": "stdout",
     "output_type": "stream",
     "text": [
      "0.7739560485559633\n",
      "0.4388784397520523\n",
      "0.8585979199113825\n",
      "0.6973680290593639\n",
      "0.09417734788764953\n"
     ]
    }
   ],
   "source": [
    "import numpy as np\n",
    "\n",
    "rng = np.random.default_rng(seed=42)\n",
    "\n",
    "for _ in range(0,5):\n",
    "    print(rng.uniform())"
   ]
  }
 ],
 "metadata": {
  "kernelspec": {
   "display_name": "gymnasium-env",
   "language": "python",
   "name": "python3"
  },
  "language_info": {
   "codemirror_mode": {
    "name": "ipython",
    "version": 3
   },
   "file_extension": ".py",
   "mimetype": "text/x-python",
   "name": "python",
   "nbconvert_exporter": "python",
   "pygments_lexer": "ipython3",
   "version": "3.11.5"
  }
 },
 "nbformat": 4,
 "nbformat_minor": 2
}
